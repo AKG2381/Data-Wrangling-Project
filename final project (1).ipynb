{
 "cells": [
  {
   "cell_type": "markdown",
   "id": "e012ef4c",
   "metadata": {},
   "source": [
    "# **FINAL PROJECT**\n",
    "> DATA Wranglling\n",
    "\n",
    "## Title :  Problem for Covid - 19 Data Analysis Project using Python\n",
    "> By : Ajeet Kumar Gupta\n"
   ]
  },
  {
   "cell_type": "markdown",
   "id": "0f249267",
   "metadata": {},
   "source": []
  },
  {
   "cell_type": "markdown",
   "id": "88790d01",
   "metadata": {},
   "source": [
    "## Step1:Importing the required python libraries\n",
    "******\n"
   ]
  },
  {
   "cell_type": "code",
   "execution_count": 1,
   "id": "8befd574",
   "metadata": {},
   "outputs": [],
   "source": [
    "import pandas as pd\n",
    "import numpy as np\n",
    "import seaborn as sns\n",
    "import matplotlib.pyplot as plt"
   ]
  },
  {
   "cell_type": "markdown",
   "id": "9eb34ec4",
   "metadata": {},
   "source": [
    "## Step 2:Reading the data from given URL\n",
    "******\n"
   ]
  },
  {
   "cell_type": "code",
   "execution_count": 2,
   "id": "b97f4f2d",
   "metadata": {},
   "outputs": [],
   "source": [
    "Data = pd.read_csv('https://raw.githubusercontent.com/SR1608/Datasets/main/covid-data.csv')"
   ]
  },
  {
   "cell_type": "code",
   "execution_count": 3,
   "id": "944188fa",
   "metadata": {},
   "outputs": [
    {
     "data": {
      "text/html": [
       "<div>\n",
       "<style scoped>\n",
       "    .dataframe tbody tr th:only-of-type {\n",
       "        vertical-align: middle;\n",
       "    }\n",
       "\n",
       "    .dataframe tbody tr th {\n",
       "        vertical-align: top;\n",
       "    }\n",
       "\n",
       "    .dataframe thead th {\n",
       "        text-align: right;\n",
       "    }\n",
       "</style>\n",
       "<table border=\"1\" class=\"dataframe\">\n",
       "  <thead>\n",
       "    <tr style=\"text-align: right;\">\n",
       "      <th></th>\n",
       "      <th>iso_code</th>\n",
       "      <th>continent</th>\n",
       "      <th>location</th>\n",
       "      <th>date</th>\n",
       "      <th>total_cases</th>\n",
       "      <th>new_cases</th>\n",
       "      <th>new_cases_smoothed</th>\n",
       "      <th>total_deaths</th>\n",
       "      <th>new_deaths</th>\n",
       "      <th>new_deaths_smoothed</th>\n",
       "      <th>...</th>\n",
       "      <th>gdp_per_capita</th>\n",
       "      <th>extreme_poverty</th>\n",
       "      <th>cardiovasc_death_rate</th>\n",
       "      <th>diabetes_prevalence</th>\n",
       "      <th>female_smokers</th>\n",
       "      <th>male_smokers</th>\n",
       "      <th>handwashing_facilities</th>\n",
       "      <th>hospital_beds_per_thousand</th>\n",
       "      <th>life_expectancy</th>\n",
       "      <th>human_development_index</th>\n",
       "    </tr>\n",
       "  </thead>\n",
       "  <tbody>\n",
       "    <tr>\n",
       "      <th>0</th>\n",
       "      <td>AFG</td>\n",
       "      <td>Asia</td>\n",
       "      <td>Afghanistan</td>\n",
       "      <td>31/12/19</td>\n",
       "      <td>NaN</td>\n",
       "      <td>0.0</td>\n",
       "      <td>NaN</td>\n",
       "      <td>NaN</td>\n",
       "      <td>0.0</td>\n",
       "      <td>NaN</td>\n",
       "      <td>...</td>\n",
       "      <td>1803.987</td>\n",
       "      <td>NaN</td>\n",
       "      <td>597.029</td>\n",
       "      <td>9.59</td>\n",
       "      <td>NaN</td>\n",
       "      <td>NaN</td>\n",
       "      <td>37.746</td>\n",
       "      <td>0.5</td>\n",
       "      <td>64.83</td>\n",
       "      <td>0.498</td>\n",
       "    </tr>\n",
       "    <tr>\n",
       "      <th>1</th>\n",
       "      <td>AFG</td>\n",
       "      <td>Asia</td>\n",
       "      <td>Afghanistan</td>\n",
       "      <td>01/01/20</td>\n",
       "      <td>NaN</td>\n",
       "      <td>0.0</td>\n",
       "      <td>NaN</td>\n",
       "      <td>NaN</td>\n",
       "      <td>0.0</td>\n",
       "      <td>NaN</td>\n",
       "      <td>...</td>\n",
       "      <td>1803.987</td>\n",
       "      <td>NaN</td>\n",
       "      <td>597.029</td>\n",
       "      <td>9.59</td>\n",
       "      <td>NaN</td>\n",
       "      <td>NaN</td>\n",
       "      <td>37.746</td>\n",
       "      <td>0.5</td>\n",
       "      <td>64.83</td>\n",
       "      <td>0.498</td>\n",
       "    </tr>\n",
       "    <tr>\n",
       "      <th>2</th>\n",
       "      <td>AFG</td>\n",
       "      <td>Asia</td>\n",
       "      <td>Afghanistan</td>\n",
       "      <td>02/01/20</td>\n",
       "      <td>NaN</td>\n",
       "      <td>0.0</td>\n",
       "      <td>NaN</td>\n",
       "      <td>NaN</td>\n",
       "      <td>0.0</td>\n",
       "      <td>NaN</td>\n",
       "      <td>...</td>\n",
       "      <td>1803.987</td>\n",
       "      <td>NaN</td>\n",
       "      <td>597.029</td>\n",
       "      <td>9.59</td>\n",
       "      <td>NaN</td>\n",
       "      <td>NaN</td>\n",
       "      <td>37.746</td>\n",
       "      <td>0.5</td>\n",
       "      <td>64.83</td>\n",
       "      <td>0.498</td>\n",
       "    </tr>\n",
       "    <tr>\n",
       "      <th>3</th>\n",
       "      <td>AFG</td>\n",
       "      <td>Asia</td>\n",
       "      <td>Afghanistan</td>\n",
       "      <td>03/01/20</td>\n",
       "      <td>NaN</td>\n",
       "      <td>0.0</td>\n",
       "      <td>NaN</td>\n",
       "      <td>NaN</td>\n",
       "      <td>0.0</td>\n",
       "      <td>NaN</td>\n",
       "      <td>...</td>\n",
       "      <td>1803.987</td>\n",
       "      <td>NaN</td>\n",
       "      <td>597.029</td>\n",
       "      <td>9.59</td>\n",
       "      <td>NaN</td>\n",
       "      <td>NaN</td>\n",
       "      <td>37.746</td>\n",
       "      <td>0.5</td>\n",
       "      <td>64.83</td>\n",
       "      <td>0.498</td>\n",
       "    </tr>\n",
       "    <tr>\n",
       "      <th>4</th>\n",
       "      <td>AFG</td>\n",
       "      <td>Asia</td>\n",
       "      <td>Afghanistan</td>\n",
       "      <td>04/01/20</td>\n",
       "      <td>NaN</td>\n",
       "      <td>0.0</td>\n",
       "      <td>NaN</td>\n",
       "      <td>NaN</td>\n",
       "      <td>0.0</td>\n",
       "      <td>NaN</td>\n",
       "      <td>...</td>\n",
       "      <td>1803.987</td>\n",
       "      <td>NaN</td>\n",
       "      <td>597.029</td>\n",
       "      <td>9.59</td>\n",
       "      <td>NaN</td>\n",
       "      <td>NaN</td>\n",
       "      <td>37.746</td>\n",
       "      <td>0.5</td>\n",
       "      <td>64.83</td>\n",
       "      <td>0.498</td>\n",
       "    </tr>\n",
       "  </tbody>\n",
       "</table>\n",
       "<p>5 rows × 49 columns</p>\n",
       "</div>"
      ],
      "text/plain": [
       "  iso_code continent     location      date  total_cases  new_cases  \\\n",
       "0      AFG      Asia  Afghanistan  31/12/19          NaN        0.0   \n",
       "1      AFG      Asia  Afghanistan  01/01/20          NaN        0.0   \n",
       "2      AFG      Asia  Afghanistan  02/01/20          NaN        0.0   \n",
       "3      AFG      Asia  Afghanistan  03/01/20          NaN        0.0   \n",
       "4      AFG      Asia  Afghanistan  04/01/20          NaN        0.0   \n",
       "\n",
       "   new_cases_smoothed  total_deaths  new_deaths  new_deaths_smoothed  ...  \\\n",
       "0                 NaN           NaN         0.0                  NaN  ...   \n",
       "1                 NaN           NaN         0.0                  NaN  ...   \n",
       "2                 NaN           NaN         0.0                  NaN  ...   \n",
       "3                 NaN           NaN         0.0                  NaN  ...   \n",
       "4                 NaN           NaN         0.0                  NaN  ...   \n",
       "\n",
       "   gdp_per_capita  extreme_poverty  cardiovasc_death_rate  \\\n",
       "0        1803.987              NaN                597.029   \n",
       "1        1803.987              NaN                597.029   \n",
       "2        1803.987              NaN                597.029   \n",
       "3        1803.987              NaN                597.029   \n",
       "4        1803.987              NaN                597.029   \n",
       "\n",
       "   diabetes_prevalence  female_smokers  male_smokers  handwashing_facilities  \\\n",
       "0                 9.59             NaN           NaN                  37.746   \n",
       "1                 9.59             NaN           NaN                  37.746   \n",
       "2                 9.59             NaN           NaN                  37.746   \n",
       "3                 9.59             NaN           NaN                  37.746   \n",
       "4                 9.59             NaN           NaN                  37.746   \n",
       "\n",
       "   hospital_beds_per_thousand  life_expectancy  human_development_index  \n",
       "0                         0.5            64.83                    0.498  \n",
       "1                         0.5            64.83                    0.498  \n",
       "2                         0.5            64.83                    0.498  \n",
       "3                         0.5            64.83                    0.498  \n",
       "4                         0.5            64.83                    0.498  \n",
       "\n",
       "[5 rows x 49 columns]"
      ]
     },
     "execution_count": 3,
     "metadata": {},
     "output_type": "execute_result"
    }
   ],
   "source": [
    "Data.head()"
   ]
  },
  {
   "cell_type": "code",
   "execution_count": 4,
   "id": "6856f056",
   "metadata": {},
   "outputs": [
    {
     "data": {
      "text/html": [
       "<div>\n",
       "<style scoped>\n",
       "    .dataframe tbody tr th:only-of-type {\n",
       "        vertical-align: middle;\n",
       "    }\n",
       "\n",
       "    .dataframe tbody tr th {\n",
       "        vertical-align: top;\n",
       "    }\n",
       "\n",
       "    .dataframe thead th {\n",
       "        text-align: right;\n",
       "    }\n",
       "</style>\n",
       "<table border=\"1\" class=\"dataframe\">\n",
       "  <thead>\n",
       "    <tr style=\"text-align: right;\">\n",
       "      <th></th>\n",
       "      <th>iso_code</th>\n",
       "      <th>continent</th>\n",
       "      <th>location</th>\n",
       "      <th>date</th>\n",
       "      <th>total_cases</th>\n",
       "      <th>new_cases</th>\n",
       "      <th>new_cases_smoothed</th>\n",
       "      <th>total_deaths</th>\n",
       "      <th>new_deaths</th>\n",
       "      <th>new_deaths_smoothed</th>\n",
       "      <th>...</th>\n",
       "      <th>gdp_per_capita</th>\n",
       "      <th>extreme_poverty</th>\n",
       "      <th>cardiovasc_death_rate</th>\n",
       "      <th>diabetes_prevalence</th>\n",
       "      <th>female_smokers</th>\n",
       "      <th>male_smokers</th>\n",
       "      <th>handwashing_facilities</th>\n",
       "      <th>hospital_beds_per_thousand</th>\n",
       "      <th>life_expectancy</th>\n",
       "      <th>human_development_index</th>\n",
       "    </tr>\n",
       "  </thead>\n",
       "  <tbody>\n",
       "    <tr>\n",
       "      <th>57389</th>\n",
       "      <td>NaN</td>\n",
       "      <td>NaN</td>\n",
       "      <td>International</td>\n",
       "      <td>13/11/20</td>\n",
       "      <td>696.0</td>\n",
       "      <td>NaN</td>\n",
       "      <td>NaN</td>\n",
       "      <td>7.0</td>\n",
       "      <td>NaN</td>\n",
       "      <td>NaN</td>\n",
       "      <td>...</td>\n",
       "      <td>NaN</td>\n",
       "      <td>NaN</td>\n",
       "      <td>NaN</td>\n",
       "      <td>NaN</td>\n",
       "      <td>NaN</td>\n",
       "      <td>NaN</td>\n",
       "      <td>NaN</td>\n",
       "      <td>NaN</td>\n",
       "      <td>NaN</td>\n",
       "      <td>NaN</td>\n",
       "    </tr>\n",
       "    <tr>\n",
       "      <th>57390</th>\n",
       "      <td>NaN</td>\n",
       "      <td>NaN</td>\n",
       "      <td>International</td>\n",
       "      <td>14/11/20</td>\n",
       "      <td>696.0</td>\n",
       "      <td>NaN</td>\n",
       "      <td>NaN</td>\n",
       "      <td>7.0</td>\n",
       "      <td>NaN</td>\n",
       "      <td>NaN</td>\n",
       "      <td>...</td>\n",
       "      <td>NaN</td>\n",
       "      <td>NaN</td>\n",
       "      <td>NaN</td>\n",
       "      <td>NaN</td>\n",
       "      <td>NaN</td>\n",
       "      <td>NaN</td>\n",
       "      <td>NaN</td>\n",
       "      <td>NaN</td>\n",
       "      <td>NaN</td>\n",
       "      <td>NaN</td>\n",
       "    </tr>\n",
       "    <tr>\n",
       "      <th>57391</th>\n",
       "      <td>NaN</td>\n",
       "      <td>NaN</td>\n",
       "      <td>International</td>\n",
       "      <td>15/11/20</td>\n",
       "      <td>696.0</td>\n",
       "      <td>NaN</td>\n",
       "      <td>NaN</td>\n",
       "      <td>7.0</td>\n",
       "      <td>NaN</td>\n",
       "      <td>NaN</td>\n",
       "      <td>...</td>\n",
       "      <td>NaN</td>\n",
       "      <td>NaN</td>\n",
       "      <td>NaN</td>\n",
       "      <td>NaN</td>\n",
       "      <td>NaN</td>\n",
       "      <td>NaN</td>\n",
       "      <td>NaN</td>\n",
       "      <td>NaN</td>\n",
       "      <td>NaN</td>\n",
       "      <td>NaN</td>\n",
       "    </tr>\n",
       "    <tr>\n",
       "      <th>57392</th>\n",
       "      <td>NaN</td>\n",
       "      <td>NaN</td>\n",
       "      <td>International</td>\n",
       "      <td>16/11/20</td>\n",
       "      <td>696.0</td>\n",
       "      <td>NaN</td>\n",
       "      <td>NaN</td>\n",
       "      <td>7.0</td>\n",
       "      <td>NaN</td>\n",
       "      <td>NaN</td>\n",
       "      <td>...</td>\n",
       "      <td>NaN</td>\n",
       "      <td>NaN</td>\n",
       "      <td>NaN</td>\n",
       "      <td>NaN</td>\n",
       "      <td>NaN</td>\n",
       "      <td>NaN</td>\n",
       "      <td>NaN</td>\n",
       "      <td>NaN</td>\n",
       "      <td>NaN</td>\n",
       "      <td>NaN</td>\n",
       "    </tr>\n",
       "    <tr>\n",
       "      <th>57393</th>\n",
       "      <td>NaN</td>\n",
       "      <td>NaN</td>\n",
       "      <td>International</td>\n",
       "      <td>17/11/20</td>\n",
       "      <td>696.0</td>\n",
       "      <td>NaN</td>\n",
       "      <td>NaN</td>\n",
       "      <td>7.0</td>\n",
       "      <td>NaN</td>\n",
       "      <td>NaN</td>\n",
       "      <td>...</td>\n",
       "      <td>NaN</td>\n",
       "      <td>NaN</td>\n",
       "      <td>NaN</td>\n",
       "      <td>NaN</td>\n",
       "      <td>NaN</td>\n",
       "      <td>NaN</td>\n",
       "      <td>NaN</td>\n",
       "      <td>NaN</td>\n",
       "      <td>NaN</td>\n",
       "      <td>NaN</td>\n",
       "    </tr>\n",
       "  </tbody>\n",
       "</table>\n",
       "<p>5 rows × 49 columns</p>\n",
       "</div>"
      ],
      "text/plain": [
       "      iso_code continent       location      date  total_cases  new_cases  \\\n",
       "57389      NaN       NaN  International  13/11/20        696.0        NaN   \n",
       "57390      NaN       NaN  International  14/11/20        696.0        NaN   \n",
       "57391      NaN       NaN  International  15/11/20        696.0        NaN   \n",
       "57392      NaN       NaN  International  16/11/20        696.0        NaN   \n",
       "57393      NaN       NaN  International  17/11/20        696.0        NaN   \n",
       "\n",
       "       new_cases_smoothed  total_deaths  new_deaths  new_deaths_smoothed  ...  \\\n",
       "57389                 NaN           7.0         NaN                  NaN  ...   \n",
       "57390                 NaN           7.0         NaN                  NaN  ...   \n",
       "57391                 NaN           7.0         NaN                  NaN  ...   \n",
       "57392                 NaN           7.0         NaN                  NaN  ...   \n",
       "57393                 NaN           7.0         NaN                  NaN  ...   \n",
       "\n",
       "       gdp_per_capita  extreme_poverty  cardiovasc_death_rate  \\\n",
       "57389             NaN              NaN                    NaN   \n",
       "57390             NaN              NaN                    NaN   \n",
       "57391             NaN              NaN                    NaN   \n",
       "57392             NaN              NaN                    NaN   \n",
       "57393             NaN              NaN                    NaN   \n",
       "\n",
       "       diabetes_prevalence  female_smokers  male_smokers  \\\n",
       "57389                  NaN             NaN           NaN   \n",
       "57390                  NaN             NaN           NaN   \n",
       "57391                  NaN             NaN           NaN   \n",
       "57392                  NaN             NaN           NaN   \n",
       "57393                  NaN             NaN           NaN   \n",
       "\n",
       "       handwashing_facilities  hospital_beds_per_thousand  life_expectancy  \\\n",
       "57389                     NaN                         NaN              NaN   \n",
       "57390                     NaN                         NaN              NaN   \n",
       "57391                     NaN                         NaN              NaN   \n",
       "57392                     NaN                         NaN              NaN   \n",
       "57393                     NaN                         NaN              NaN   \n",
       "\n",
       "       human_development_index  \n",
       "57389                      NaN  \n",
       "57390                      NaN  \n",
       "57391                      NaN  \n",
       "57392                      NaN  \n",
       "57393                      NaN  \n",
       "\n",
       "[5 rows x 49 columns]"
      ]
     },
     "execution_count": 4,
     "metadata": {},
     "output_type": "execute_result"
    }
   ],
   "source": [
    "Data.tail()"
   ]
  },
  {
   "cell_type": "markdown",
   "id": "d2135f06",
   "metadata": {},
   "source": [
    "## Step 3: High Level Data Understanding:\n",
    "  ***a. Find no. of rows & columns in the dataset***\n",
    " \n",
    "\n",
    "****** \n"
   ]
  },
  {
   "cell_type": "code",
   "execution_count": 5,
   "id": "a4efad3e",
   "metadata": {},
   "outputs": [
    {
     "name": "stdout",
     "output_type": "stream",
     "text": [
      "No. of Rows : 57394\n"
     ]
    }
   ],
   "source": [
    "print(\"No. of Rows :\",Data.shape[0])"
   ]
  },
  {
   "cell_type": "code",
   "execution_count": 6,
   "id": "332a5028",
   "metadata": {},
   "outputs": [
    {
     "name": "stdout",
     "output_type": "stream",
     "text": [
      "No. of Columns : 49\n"
     ]
    }
   ],
   "source": [
    "print(\"No. of Columns :\",Data.shape[1])"
   ]
  },
  {
   "cell_type": "markdown",
   "id": "3833a91b",
   "metadata": {
    "scrolled": true
   },
   "source": [
    "***b. Data types of columns.***"
   ]
  },
  {
   "cell_type": "code",
   "execution_count": 7,
   "id": "18642ecf",
   "metadata": {},
   "outputs": [
    {
     "data": {
      "text/plain": [
       "iso_code                               object\n",
       "continent                              object\n",
       "location                               object\n",
       "date                                   object\n",
       "total_cases                           float64\n",
       "new_cases                             float64\n",
       "new_cases_smoothed                    float64\n",
       "total_deaths                          float64\n",
       "new_deaths                            float64\n",
       "new_deaths_smoothed                   float64\n",
       "total_cases_per_million               float64\n",
       "new_cases_per_million                 float64\n",
       "new_cases_smoothed_per_million        float64\n",
       "total_deaths_per_million              float64\n",
       "new_deaths_per_million                float64\n",
       "new_deaths_smoothed_per_million       float64\n",
       "reproduction_rate                     float64\n",
       "icu_patients                          float64\n",
       "icu_patients_per_million              float64\n",
       "hosp_patients                         float64\n",
       "hosp_patients_per_million             float64\n",
       "weekly_icu_admissions                 float64\n",
       "weekly_icu_admissions_per_million     float64\n",
       "weekly_hosp_admissions                float64\n",
       "weekly_hosp_admissions_per_million    float64\n",
       "total_tests                           float64\n",
       "new_tests                             float64\n",
       "total_tests_per_thousand              float64\n",
       "new_tests_per_thousand                float64\n",
       "new_tests_smoothed                    float64\n",
       "new_tests_smoothed_per_thousand       float64\n",
       "tests_per_case                        float64\n",
       "positive_rate                         float64\n",
       "stringency_index                      float64\n",
       "population                            float64\n",
       "population_density                    float64\n",
       "median_age                            float64\n",
       "aged_65_older                         float64\n",
       "aged_70_older                         float64\n",
       "gdp_per_capita                        float64\n",
       "extreme_poverty                       float64\n",
       "cardiovasc_death_rate                 float64\n",
       "diabetes_prevalence                   float64\n",
       "female_smokers                        float64\n",
       "male_smokers                          float64\n",
       "handwashing_facilities                float64\n",
       "hospital_beds_per_thousand            float64\n",
       "life_expectancy                       float64\n",
       "human_development_index               float64\n",
       "dtype: object"
      ]
     },
     "execution_count": 7,
     "metadata": {},
     "output_type": "execute_result"
    }
   ],
   "source": [
    "Data.dtypes"
   ]
  },
  {
   "cell_type": "markdown",
   "id": "0a75344f",
   "metadata": {},
   "source": [
    "***c. Info & describe of data in dataframe***"
   ]
  },
  {
   "cell_type": "code",
   "execution_count": 8,
   "id": "d82320b8",
   "metadata": {},
   "outputs": [
    {
     "name": "stdout",
     "output_type": "stream",
     "text": [
      "<class 'pandas.core.frame.DataFrame'>\n",
      "RangeIndex: 57394 entries, 0 to 57393\n",
      "Data columns (total 49 columns):\n",
      " #   Column                              Non-Null Count  Dtype  \n",
      "---  ------                              --------------  -----  \n",
      " 0   iso_code                            57071 non-null  object \n",
      " 1   continent                           56748 non-null  object \n",
      " 2   location                            57394 non-null  object \n",
      " 3   date                                57394 non-null  object \n",
      " 4   total_cases                         53758 non-null  float64\n",
      " 5   new_cases                           56465 non-null  float64\n",
      " 6   new_cases_smoothed                  55652 non-null  float64\n",
      " 7   total_deaths                        44368 non-null  float64\n",
      " 8   new_deaths                          56465 non-null  float64\n",
      " 9   new_deaths_smoothed                 55652 non-null  float64\n",
      " 10  total_cases_per_million             53471 non-null  float64\n",
      " 11  new_cases_per_million               56401 non-null  float64\n",
      " 12  new_cases_smoothed_per_million      55587 non-null  float64\n",
      " 13  total_deaths_per_million            44096 non-null  float64\n",
      " 14  new_deaths_per_million              56401 non-null  float64\n",
      " 15  new_deaths_smoothed_per_million     55587 non-null  float64\n",
      " 16  reproduction_rate                   37696 non-null  float64\n",
      " 17  icu_patients                        4490 non-null   float64\n",
      " 18  icu_patients_per_million            4490 non-null   float64\n",
      " 19  hosp_patients                       5005 non-null   float64\n",
      " 20  hosp_patients_per_million           5005 non-null   float64\n",
      " 21  weekly_icu_admissions               357 non-null    float64\n",
      " 22  weekly_icu_admissions_per_million   357 non-null    float64\n",
      " 23  weekly_hosp_admissions              645 non-null    float64\n",
      " 24  weekly_hosp_admissions_per_million  645 non-null    float64\n",
      " 25  total_tests                         22017 non-null  float64\n",
      " 26  new_tests                           21787 non-null  float64\n",
      " 27  total_tests_per_thousand            22017 non-null  float64\n",
      " 28  new_tests_per_thousand              21787 non-null  float64\n",
      " 29  new_tests_smoothed                  24612 non-null  float64\n",
      " 30  new_tests_smoothed_per_thousand     24612 non-null  float64\n",
      " 31  tests_per_case                      22802 non-null  float64\n",
      " 32  positive_rate                       23211 non-null  float64\n",
      " 33  stringency_index                    47847 non-null  float64\n",
      " 34  population                          57071 non-null  float64\n",
      " 35  population_density                  54371 non-null  float64\n",
      " 36  median_age                          51034 non-null  float64\n",
      " 37  aged_65_older                       50265 non-null  float64\n",
      " 38  aged_70_older                       50768 non-null  float64\n",
      " 39  gdp_per_capita                      50367 non-null  float64\n",
      " 40  extreme_poverty                     33571 non-null  float64\n",
      " 41  cardiovasc_death_rate               51013 non-null  float64\n",
      " 42  diabetes_prevalence                 52881 non-null  float64\n",
      " 43  female_smokers                      39669 non-null  float64\n",
      " 44  male_smokers                        39156 non-null  float64\n",
      " 45  handwashing_facilities              24176 non-null  float64\n",
      " 46  hospital_beds_per_thousand          45936 non-null  float64\n",
      " 47  life_expectancy                     56336 non-null  float64\n",
      " 48  human_development_index             49247 non-null  float64\n",
      "dtypes: float64(45), object(4)\n",
      "memory usage: 21.5+ MB\n"
     ]
    }
   ],
   "source": [
    "Data.info()"
   ]
  },
  {
   "cell_type": "code",
   "execution_count": 9,
   "id": "63cd0e7e",
   "metadata": {},
   "outputs": [
    {
     "data": {
      "text/html": [
       "<div>\n",
       "<style scoped>\n",
       "    .dataframe tbody tr th:only-of-type {\n",
       "        vertical-align: middle;\n",
       "    }\n",
       "\n",
       "    .dataframe tbody tr th {\n",
       "        vertical-align: top;\n",
       "    }\n",
       "\n",
       "    .dataframe thead th {\n",
       "        text-align: right;\n",
       "    }\n",
       "</style>\n",
       "<table border=\"1\" class=\"dataframe\">\n",
       "  <thead>\n",
       "    <tr style=\"text-align: right;\">\n",
       "      <th></th>\n",
       "      <th>iso_code</th>\n",
       "      <th>continent</th>\n",
       "      <th>location</th>\n",
       "      <th>date</th>\n",
       "      <th>total_cases</th>\n",
       "      <th>new_cases</th>\n",
       "      <th>new_cases_smoothed</th>\n",
       "      <th>total_deaths</th>\n",
       "      <th>new_deaths</th>\n",
       "      <th>new_deaths_smoothed</th>\n",
       "      <th>...</th>\n",
       "      <th>gdp_per_capita</th>\n",
       "      <th>extreme_poverty</th>\n",
       "      <th>cardiovasc_death_rate</th>\n",
       "      <th>diabetes_prevalence</th>\n",
       "      <th>female_smokers</th>\n",
       "      <th>male_smokers</th>\n",
       "      <th>handwashing_facilities</th>\n",
       "      <th>hospital_beds_per_thousand</th>\n",
       "      <th>life_expectancy</th>\n",
       "      <th>human_development_index</th>\n",
       "    </tr>\n",
       "  </thead>\n",
       "  <tbody>\n",
       "    <tr>\n",
       "      <th>count</th>\n",
       "      <td>57071</td>\n",
       "      <td>56748</td>\n",
       "      <td>57394</td>\n",
       "      <td>57394</td>\n",
       "      <td>5.375800e+04</td>\n",
       "      <td>56465.000000</td>\n",
       "      <td>55652.000000</td>\n",
       "      <td>4.436800e+04</td>\n",
       "      <td>56465.000000</td>\n",
       "      <td>55652.000000</td>\n",
       "      <td>...</td>\n",
       "      <td>50367.000000</td>\n",
       "      <td>33571.000000</td>\n",
       "      <td>51013.000000</td>\n",
       "      <td>52881.000000</td>\n",
       "      <td>39669.000000</td>\n",
       "      <td>39156.000000</td>\n",
       "      <td>24176.000000</td>\n",
       "      <td>45936.000000</td>\n",
       "      <td>56336.000000</td>\n",
       "      <td>49247.000000</td>\n",
       "    </tr>\n",
       "    <tr>\n",
       "      <th>unique</th>\n",
       "      <td>215</td>\n",
       "      <td>6</td>\n",
       "      <td>216</td>\n",
       "      <td>323</td>\n",
       "      <td>NaN</td>\n",
       "      <td>NaN</td>\n",
       "      <td>NaN</td>\n",
       "      <td>NaN</td>\n",
       "      <td>NaN</td>\n",
       "      <td>NaN</td>\n",
       "      <td>...</td>\n",
       "      <td>NaN</td>\n",
       "      <td>NaN</td>\n",
       "      <td>NaN</td>\n",
       "      <td>NaN</td>\n",
       "      <td>NaN</td>\n",
       "      <td>NaN</td>\n",
       "      <td>NaN</td>\n",
       "      <td>NaN</td>\n",
       "      <td>NaN</td>\n",
       "      <td>NaN</td>\n",
       "    </tr>\n",
       "    <tr>\n",
       "      <th>top</th>\n",
       "      <td>AFG</td>\n",
       "      <td>Europe</td>\n",
       "      <td>Afghanistan</td>\n",
       "      <td>30/10/20</td>\n",
       "      <td>NaN</td>\n",
       "      <td>NaN</td>\n",
       "      <td>NaN</td>\n",
       "      <td>NaN</td>\n",
       "      <td>NaN</td>\n",
       "      <td>NaN</td>\n",
       "      <td>...</td>\n",
       "      <td>NaN</td>\n",
       "      <td>NaN</td>\n",
       "      <td>NaN</td>\n",
       "      <td>NaN</td>\n",
       "      <td>NaN</td>\n",
       "      <td>NaN</td>\n",
       "      <td>NaN</td>\n",
       "      <td>NaN</td>\n",
       "      <td>NaN</td>\n",
       "      <td>NaN</td>\n",
       "    </tr>\n",
       "    <tr>\n",
       "      <th>freq</th>\n",
       "      <td>323</td>\n",
       "      <td>14828</td>\n",
       "      <td>323</td>\n",
       "      <td>215</td>\n",
       "      <td>NaN</td>\n",
       "      <td>NaN</td>\n",
       "      <td>NaN</td>\n",
       "      <td>NaN</td>\n",
       "      <td>NaN</td>\n",
       "      <td>NaN</td>\n",
       "      <td>...</td>\n",
       "      <td>NaN</td>\n",
       "      <td>NaN</td>\n",
       "      <td>NaN</td>\n",
       "      <td>NaN</td>\n",
       "      <td>NaN</td>\n",
       "      <td>NaN</td>\n",
       "      <td>NaN</td>\n",
       "      <td>NaN</td>\n",
       "      <td>NaN</td>\n",
       "      <td>NaN</td>\n",
       "    </tr>\n",
       "    <tr>\n",
       "      <th>mean</th>\n",
       "      <td>NaN</td>\n",
       "      <td>NaN</td>\n",
       "      <td>NaN</td>\n",
       "      <td>NaN</td>\n",
       "      <td>1.677974e+05</td>\n",
       "      <td>1953.576941</td>\n",
       "      <td>1920.431953</td>\n",
       "      <td>6.858639e+03</td>\n",
       "      <td>47.054317</td>\n",
       "      <td>46.835439</td>\n",
       "      <td>...</td>\n",
       "      <td>20620.172071</td>\n",
       "      <td>12.435453</td>\n",
       "      <td>252.646642</td>\n",
       "      <td>8.070269</td>\n",
       "      <td>10.741569</td>\n",
       "      <td>32.642686</td>\n",
       "      <td>52.089636</td>\n",
       "      <td>3.089724</td>\n",
       "      <td>73.937780</td>\n",
       "      <td>0.722223</td>\n",
       "    </tr>\n",
       "    <tr>\n",
       "      <th>std</th>\n",
       "      <td>NaN</td>\n",
       "      <td>NaN</td>\n",
       "      <td>NaN</td>\n",
       "      <td>NaN</td>\n",
       "      <td>1.693038e+06</td>\n",
       "      <td>18269.650340</td>\n",
       "      <td>17777.391785</td>\n",
       "      <td>5.578081e+04</td>\n",
       "      <td>390.853776</td>\n",
       "      <td>378.272794</td>\n",
       "      <td>...</td>\n",
       "      <td>20310.999832</td>\n",
       "      <td>19.427924</td>\n",
       "      <td>117.522344</td>\n",
       "      <td>4.189605</td>\n",
       "      <td>10.470743</td>\n",
       "      <td>13.453566</td>\n",
       "      <td>31.645306</td>\n",
       "      <td>2.513193</td>\n",
       "      <td>7.397016</td>\n",
       "      <td>0.153261</td>\n",
       "    </tr>\n",
       "    <tr>\n",
       "      <th>min</th>\n",
       "      <td>NaN</td>\n",
       "      <td>NaN</td>\n",
       "      <td>NaN</td>\n",
       "      <td>NaN</td>\n",
       "      <td>1.000000e+00</td>\n",
       "      <td>-8261.000000</td>\n",
       "      <td>-552.000000</td>\n",
       "      <td>1.000000e+00</td>\n",
       "      <td>-1918.000000</td>\n",
       "      <td>-232.143000</td>\n",
       "      <td>...</td>\n",
       "      <td>661.240000</td>\n",
       "      <td>0.100000</td>\n",
       "      <td>79.370000</td>\n",
       "      <td>0.990000</td>\n",
       "      <td>0.100000</td>\n",
       "      <td>7.700000</td>\n",
       "      <td>1.188000</td>\n",
       "      <td>0.100000</td>\n",
       "      <td>53.280000</td>\n",
       "      <td>0.354000</td>\n",
       "    </tr>\n",
       "    <tr>\n",
       "      <th>25%</th>\n",
       "      <td>NaN</td>\n",
       "      <td>NaN</td>\n",
       "      <td>NaN</td>\n",
       "      <td>NaN</td>\n",
       "      <td>1.800000e+02</td>\n",
       "      <td>0.000000</td>\n",
       "      <td>0.857000</td>\n",
       "      <td>1.300000e+01</td>\n",
       "      <td>0.000000</td>\n",
       "      <td>0.000000</td>\n",
       "      <td>...</td>\n",
       "      <td>5321.444000</td>\n",
       "      <td>0.500000</td>\n",
       "      <td>156.139000</td>\n",
       "      <td>5.310000</td>\n",
       "      <td>1.900000</td>\n",
       "      <td>21.400000</td>\n",
       "      <td>21.222000</td>\n",
       "      <td>1.300000</td>\n",
       "      <td>69.870000</td>\n",
       "      <td>0.601000</td>\n",
       "    </tr>\n",
       "    <tr>\n",
       "      <th>50%</th>\n",
       "      <td>NaN</td>\n",
       "      <td>NaN</td>\n",
       "      <td>NaN</td>\n",
       "      <td>NaN</td>\n",
       "      <td>2.070000e+03</td>\n",
       "      <td>14.000000</td>\n",
       "      <td>19.429000</td>\n",
       "      <td>8.400000e+01</td>\n",
       "      <td>0.000000</td>\n",
       "      <td>0.286000</td>\n",
       "      <td>...</td>\n",
       "      <td>13913.839000</td>\n",
       "      <td>2.000000</td>\n",
       "      <td>238.339000</td>\n",
       "      <td>7.110000</td>\n",
       "      <td>6.400000</td>\n",
       "      <td>31.400000</td>\n",
       "      <td>52.232000</td>\n",
       "      <td>2.500000</td>\n",
       "      <td>75.345000</td>\n",
       "      <td>0.752000</td>\n",
       "    </tr>\n",
       "    <tr>\n",
       "      <th>75%</th>\n",
       "      <td>NaN</td>\n",
       "      <td>NaN</td>\n",
       "      <td>NaN</td>\n",
       "      <td>NaN</td>\n",
       "      <td>2.235675e+04</td>\n",
       "      <td>235.000000</td>\n",
       "      <td>245.286000</td>\n",
       "      <td>7.270000e+02</td>\n",
       "      <td>4.000000</td>\n",
       "      <td>4.000000</td>\n",
       "      <td>...</td>\n",
       "      <td>31400.840000</td>\n",
       "      <td>18.100000</td>\n",
       "      <td>318.991000</td>\n",
       "      <td>10.390000</td>\n",
       "      <td>19.600000</td>\n",
       "      <td>40.900000</td>\n",
       "      <td>83.741000</td>\n",
       "      <td>4.200000</td>\n",
       "      <td>79.380000</td>\n",
       "      <td>0.847000</td>\n",
       "    </tr>\n",
       "    <tr>\n",
       "      <th>max</th>\n",
       "      <td>NaN</td>\n",
       "      <td>NaN</td>\n",
       "      <td>NaN</td>\n",
       "      <td>NaN</td>\n",
       "      <td>5.515465e+07</td>\n",
       "      <td>646281.000000</td>\n",
       "      <td>584981.857000</td>\n",
       "      <td>1.328537e+06</td>\n",
       "      <td>10600.000000</td>\n",
       "      <td>9027.714000</td>\n",
       "      <td>...</td>\n",
       "      <td>116935.600000</td>\n",
       "      <td>77.600000</td>\n",
       "      <td>724.417000</td>\n",
       "      <td>30.530000</td>\n",
       "      <td>44.000000</td>\n",
       "      <td>78.100000</td>\n",
       "      <td>98.999000</td>\n",
       "      <td>13.800000</td>\n",
       "      <td>86.750000</td>\n",
       "      <td>0.953000</td>\n",
       "    </tr>\n",
       "  </tbody>\n",
       "</table>\n",
       "<p>11 rows × 49 columns</p>\n",
       "</div>"
      ],
      "text/plain": [
       "       iso_code continent     location      date   total_cases      new_cases  \\\n",
       "count     57071     56748        57394     57394  5.375800e+04   56465.000000   \n",
       "unique      215         6          216       323           NaN            NaN   \n",
       "top         AFG    Europe  Afghanistan  30/10/20           NaN            NaN   \n",
       "freq        323     14828          323       215           NaN            NaN   \n",
       "mean        NaN       NaN          NaN       NaN  1.677974e+05    1953.576941   \n",
       "std         NaN       NaN          NaN       NaN  1.693038e+06   18269.650340   \n",
       "min         NaN       NaN          NaN       NaN  1.000000e+00   -8261.000000   \n",
       "25%         NaN       NaN          NaN       NaN  1.800000e+02       0.000000   \n",
       "50%         NaN       NaN          NaN       NaN  2.070000e+03      14.000000   \n",
       "75%         NaN       NaN          NaN       NaN  2.235675e+04     235.000000   \n",
       "max         NaN       NaN          NaN       NaN  5.515465e+07  646281.000000   \n",
       "\n",
       "        new_cases_smoothed  total_deaths    new_deaths  new_deaths_smoothed  \\\n",
       "count         55652.000000  4.436800e+04  56465.000000         55652.000000   \n",
       "unique                 NaN           NaN           NaN                  NaN   \n",
       "top                    NaN           NaN           NaN                  NaN   \n",
       "freq                   NaN           NaN           NaN                  NaN   \n",
       "mean           1920.431953  6.858639e+03     47.054317            46.835439   \n",
       "std           17777.391785  5.578081e+04    390.853776           378.272794   \n",
       "min            -552.000000  1.000000e+00  -1918.000000          -232.143000   \n",
       "25%               0.857000  1.300000e+01      0.000000             0.000000   \n",
       "50%              19.429000  8.400000e+01      0.000000             0.286000   \n",
       "75%             245.286000  7.270000e+02      4.000000             4.000000   \n",
       "max          584981.857000  1.328537e+06  10600.000000          9027.714000   \n",
       "\n",
       "        ...  gdp_per_capita  extreme_poverty  cardiovasc_death_rate  \\\n",
       "count   ...    50367.000000     33571.000000           51013.000000   \n",
       "unique  ...             NaN              NaN                    NaN   \n",
       "top     ...             NaN              NaN                    NaN   \n",
       "freq    ...             NaN              NaN                    NaN   \n",
       "mean    ...    20620.172071        12.435453             252.646642   \n",
       "std     ...    20310.999832        19.427924             117.522344   \n",
       "min     ...      661.240000         0.100000              79.370000   \n",
       "25%     ...     5321.444000         0.500000             156.139000   \n",
       "50%     ...    13913.839000         2.000000             238.339000   \n",
       "75%     ...    31400.840000        18.100000             318.991000   \n",
       "max     ...   116935.600000        77.600000             724.417000   \n",
       "\n",
       "        diabetes_prevalence  female_smokers  male_smokers  \\\n",
       "count          52881.000000    39669.000000  39156.000000   \n",
       "unique                  NaN             NaN           NaN   \n",
       "top                     NaN             NaN           NaN   \n",
       "freq                    NaN             NaN           NaN   \n",
       "mean               8.070269       10.741569     32.642686   \n",
       "std                4.189605       10.470743     13.453566   \n",
       "min                0.990000        0.100000      7.700000   \n",
       "25%                5.310000        1.900000     21.400000   \n",
       "50%                7.110000        6.400000     31.400000   \n",
       "75%               10.390000       19.600000     40.900000   \n",
       "max               30.530000       44.000000     78.100000   \n",
       "\n",
       "        handwashing_facilities  hospital_beds_per_thousand  life_expectancy  \\\n",
       "count             24176.000000                45936.000000     56336.000000   \n",
       "unique                     NaN                         NaN              NaN   \n",
       "top                        NaN                         NaN              NaN   \n",
       "freq                       NaN                         NaN              NaN   \n",
       "mean                 52.089636                    3.089724        73.937780   \n",
       "std                  31.645306                    2.513193         7.397016   \n",
       "min                   1.188000                    0.100000        53.280000   \n",
       "25%                  21.222000                    1.300000        69.870000   \n",
       "50%                  52.232000                    2.500000        75.345000   \n",
       "75%                  83.741000                    4.200000        79.380000   \n",
       "max                  98.999000                   13.800000        86.750000   \n",
       "\n",
       "        human_development_index  \n",
       "count              49247.000000  \n",
       "unique                      NaN  \n",
       "top                         NaN  \n",
       "freq                        NaN  \n",
       "mean                   0.722223  \n",
       "std                    0.153261  \n",
       "min                    0.354000  \n",
       "25%                    0.601000  \n",
       "50%                    0.752000  \n",
       "75%                    0.847000  \n",
       "max                    0.953000  \n",
       "\n",
       "[11 rows x 49 columns]"
      ]
     },
     "execution_count": 9,
     "metadata": {},
     "output_type": "execute_result"
    }
   ],
   "source": [
    "Data.describe(include='all')"
   ]
  },
  {
   "cell_type": "markdown",
   "id": "c65269ee",
   "metadata": {},
   "source": [
    "## Step 4: Low Level Data Understanding :\n",
    "***a. Find count of unique values in location column.***"
   ]
  },
  {
   "cell_type": "code",
   "execution_count": 10,
   "id": "a7b6451e",
   "metadata": {},
   "outputs": [
    {
     "data": {
      "text/plain": [
       "216"
      ]
     },
     "execution_count": 10,
     "metadata": {},
     "output_type": "execute_result"
    }
   ],
   "source": [
    "len(set(Data.location))"
   ]
  },
  {
   "cell_type": "markdown",
   "id": "36087427",
   "metadata": {},
   "source": [
    "***b. Find which continent has maximum frequency using values counts.***"
   ]
  },
  {
   "cell_type": "code",
   "execution_count": 11,
   "id": "5815e45e",
   "metadata": {},
   "outputs": [
    {
     "data": {
      "text/plain": [
       "Europe    14828\n",
       "Name: continent, dtype: int64"
      ]
     },
     "execution_count": 11,
     "metadata": {},
     "output_type": "execute_result"
    }
   ],
   "source": [
    "Data.continent.value_counts().head(1)"
   ]
  },
  {
   "cell_type": "markdown",
   "id": "04fa4630",
   "metadata": {},
   "source": [
    " ***c. Find maximum & mean value in 'total_cases'.***\n"
   ]
  },
  {
   "cell_type": "code",
   "execution_count": 12,
   "id": "69015cab",
   "metadata": {},
   "outputs": [
    {
     "data": {
      "text/plain": [
       "55154651.0"
      ]
     },
     "execution_count": 12,
     "metadata": {},
     "output_type": "execute_result"
    }
   ],
   "source": [
    "Data.total_cases.max()"
   ]
  },
  {
   "cell_type": "code",
   "execution_count": 13,
   "id": "09dab284",
   "metadata": {},
   "outputs": [
    {
     "data": {
      "text/plain": [
       "167797.3688753302"
      ]
     },
     "execution_count": 13,
     "metadata": {},
     "output_type": "execute_result"
    }
   ],
   "source": [
    "Data.total_cases.mean()"
   ]
  },
  {
   "cell_type": "markdown",
   "id": "d278fa23",
   "metadata": {},
   "source": [
    "***d. Find 25%,50% & 75% quartile value in 'total_deaths'.***"
   ]
  },
  {
   "cell_type": "code",
   "execution_count": 14,
   "id": "91ee78af",
   "metadata": {},
   "outputs": [
    {
     "data": {
      "text/plain": [
       "304304084.0"
      ]
     },
     "execution_count": 14,
     "metadata": {},
     "output_type": "execute_result"
    }
   ],
   "source": [
    "x=Data.total_deaths.sum()\n",
    "x"
   ]
  },
  {
   "cell_type": "markdown",
   "id": "a58aacfc",
   "metadata": {},
   "source": [
    "***25% of total_deaths***"
   ]
  },
  {
   "cell_type": "code",
   "execution_count": 15,
   "id": "cf91b546",
   "metadata": {},
   "outputs": [
    {
     "data": {
      "text/plain": [
       "76076021.0"
      ]
     },
     "execution_count": 15,
     "metadata": {},
     "output_type": "execute_result"
    }
   ],
   "source": [
    "x*(.25)"
   ]
  },
  {
   "cell_type": "markdown",
   "id": "fdbef34c",
   "metadata": {},
   "source": [
    "***50% of total_deaths***"
   ]
  },
  {
   "cell_type": "code",
   "execution_count": 16,
   "id": "e704bca3",
   "metadata": {},
   "outputs": [
    {
     "data": {
      "text/plain": [
       "152152042.0"
      ]
     },
     "execution_count": 16,
     "metadata": {},
     "output_type": "execute_result"
    }
   ],
   "source": [
    "x*(.50)"
   ]
  },
  {
   "cell_type": "markdown",
   "id": "f0a15491",
   "metadata": {},
   "source": [
    "***75% of total_deaths***"
   ]
  },
  {
   "cell_type": "code",
   "execution_count": 17,
   "id": "b721a78b",
   "metadata": {},
   "outputs": [
    {
     "data": {
      "text/plain": [
       "228228063.0"
      ]
     },
     "execution_count": 17,
     "metadata": {},
     "output_type": "execute_result"
    }
   ],
   "source": [
    "x*(.75)"
   ]
  },
  {
   "cell_type": "markdown",
   "id": "0792f532",
   "metadata": {},
   "source": [
    "***e. Find which continent has maximum 'human_development_index'.***"
   ]
  },
  {
   "cell_type": "code",
   "execution_count": 18,
   "id": "15ed0a5f",
   "metadata": {},
   "outputs": [
    {
     "data": {
      "text/plain": [
       "38635    Europe\n",
       "Name: continent, dtype: object"
      ]
     },
     "execution_count": 18,
     "metadata": {},
     "output_type": "execute_result"
    }
   ],
   "source": [
    "x=Data.sort_values(by=['human_development_index'],ascending=False).head(1)\n",
    "x.continent"
   ]
  },
  {
   "cell_type": "code",
   "execution_count": null,
   "id": "97e07ef5",
   "metadata": {},
   "outputs": [],
   "source": []
  },
  {
   "cell_type": "markdown",
   "id": "5821fd04",
   "metadata": {},
   "source": [
    "***f. Find which continent has minimum 'gdp_per_capita'.***"
   ]
  },
  {
   "cell_type": "code",
   "execution_count": 19,
   "id": "ce7f6fef",
   "metadata": {},
   "outputs": [
    {
     "data": {
      "text/plain": [
       "10268    Africa\n",
       "Name: continent, dtype: object"
      ]
     },
     "execution_count": 19,
     "metadata": {},
     "output_type": "execute_result"
    }
   ],
   "source": [
    "x=Data.sort_values(by=['gdp_per_capita'],ascending=False)\n",
    "x=x[x['gdp_per_capita'].notna()]\n",
    "x.continent.tail(1)"
   ]
  },
  {
   "cell_type": "markdown",
   "id": "634d712f",
   "metadata": {},
   "source": [
    "## Step 5: \n",
    "***Filter the dataframe with only this columns['continent','location','date','total_cases','total_deaths','gdp_per_capita','human_development_index'] and update the data frame.***\n",
    "\n"
   ]
  },
  {
   "cell_type": "code",
   "execution_count": 20,
   "id": "3cb2b2dd",
   "metadata": {},
   "outputs": [
    {
     "data": {
      "text/html": [
       "<div>\n",
       "<style scoped>\n",
       "    .dataframe tbody tr th:only-of-type {\n",
       "        vertical-align: middle;\n",
       "    }\n",
       "\n",
       "    .dataframe tbody tr th {\n",
       "        vertical-align: top;\n",
       "    }\n",
       "\n",
       "    .dataframe thead th {\n",
       "        text-align: right;\n",
       "    }\n",
       "</style>\n",
       "<table border=\"1\" class=\"dataframe\">\n",
       "  <thead>\n",
       "    <tr style=\"text-align: right;\">\n",
       "      <th></th>\n",
       "      <th>continent</th>\n",
       "      <th>location</th>\n",
       "      <th>date</th>\n",
       "      <th>total_cases</th>\n",
       "      <th>total_deaths</th>\n",
       "      <th>gdp_per_capita</th>\n",
       "      <th>human_development_index</th>\n",
       "    </tr>\n",
       "  </thead>\n",
       "  <tbody>\n",
       "    <tr>\n",
       "      <th>0</th>\n",
       "      <td>Asia</td>\n",
       "      <td>Afghanistan</td>\n",
       "      <td>31/12/19</td>\n",
       "      <td>NaN</td>\n",
       "      <td>NaN</td>\n",
       "      <td>1803.987</td>\n",
       "      <td>0.498</td>\n",
       "    </tr>\n",
       "    <tr>\n",
       "      <th>1</th>\n",
       "      <td>Asia</td>\n",
       "      <td>Afghanistan</td>\n",
       "      <td>01/01/20</td>\n",
       "      <td>NaN</td>\n",
       "      <td>NaN</td>\n",
       "      <td>1803.987</td>\n",
       "      <td>0.498</td>\n",
       "    </tr>\n",
       "    <tr>\n",
       "      <th>2</th>\n",
       "      <td>Asia</td>\n",
       "      <td>Afghanistan</td>\n",
       "      <td>02/01/20</td>\n",
       "      <td>NaN</td>\n",
       "      <td>NaN</td>\n",
       "      <td>1803.987</td>\n",
       "      <td>0.498</td>\n",
       "    </tr>\n",
       "    <tr>\n",
       "      <th>3</th>\n",
       "      <td>Asia</td>\n",
       "      <td>Afghanistan</td>\n",
       "      <td>03/01/20</td>\n",
       "      <td>NaN</td>\n",
       "      <td>NaN</td>\n",
       "      <td>1803.987</td>\n",
       "      <td>0.498</td>\n",
       "    </tr>\n",
       "    <tr>\n",
       "      <th>4</th>\n",
       "      <td>Asia</td>\n",
       "      <td>Afghanistan</td>\n",
       "      <td>04/01/20</td>\n",
       "      <td>NaN</td>\n",
       "      <td>NaN</td>\n",
       "      <td>1803.987</td>\n",
       "      <td>0.498</td>\n",
       "    </tr>\n",
       "    <tr>\n",
       "      <th>...</th>\n",
       "      <td>...</td>\n",
       "      <td>...</td>\n",
       "      <td>...</td>\n",
       "      <td>...</td>\n",
       "      <td>...</td>\n",
       "      <td>...</td>\n",
       "      <td>...</td>\n",
       "    </tr>\n",
       "    <tr>\n",
       "      <th>57389</th>\n",
       "      <td>NaN</td>\n",
       "      <td>International</td>\n",
       "      <td>13/11/20</td>\n",
       "      <td>696.0</td>\n",
       "      <td>7.0</td>\n",
       "      <td>NaN</td>\n",
       "      <td>NaN</td>\n",
       "    </tr>\n",
       "    <tr>\n",
       "      <th>57390</th>\n",
       "      <td>NaN</td>\n",
       "      <td>International</td>\n",
       "      <td>14/11/20</td>\n",
       "      <td>696.0</td>\n",
       "      <td>7.0</td>\n",
       "      <td>NaN</td>\n",
       "      <td>NaN</td>\n",
       "    </tr>\n",
       "    <tr>\n",
       "      <th>57391</th>\n",
       "      <td>NaN</td>\n",
       "      <td>International</td>\n",
       "      <td>15/11/20</td>\n",
       "      <td>696.0</td>\n",
       "      <td>7.0</td>\n",
       "      <td>NaN</td>\n",
       "      <td>NaN</td>\n",
       "    </tr>\n",
       "    <tr>\n",
       "      <th>57392</th>\n",
       "      <td>NaN</td>\n",
       "      <td>International</td>\n",
       "      <td>16/11/20</td>\n",
       "      <td>696.0</td>\n",
       "      <td>7.0</td>\n",
       "      <td>NaN</td>\n",
       "      <td>NaN</td>\n",
       "    </tr>\n",
       "    <tr>\n",
       "      <th>57393</th>\n",
       "      <td>NaN</td>\n",
       "      <td>International</td>\n",
       "      <td>17/11/20</td>\n",
       "      <td>696.0</td>\n",
       "      <td>7.0</td>\n",
       "      <td>NaN</td>\n",
       "      <td>NaN</td>\n",
       "    </tr>\n",
       "  </tbody>\n",
       "</table>\n",
       "<p>57394 rows × 7 columns</p>\n",
       "</div>"
      ],
      "text/plain": [
       "      continent       location      date  total_cases  total_deaths  \\\n",
       "0          Asia    Afghanistan  31/12/19          NaN           NaN   \n",
       "1          Asia    Afghanistan  01/01/20          NaN           NaN   \n",
       "2          Asia    Afghanistan  02/01/20          NaN           NaN   \n",
       "3          Asia    Afghanistan  03/01/20          NaN           NaN   \n",
       "4          Asia    Afghanistan  04/01/20          NaN           NaN   \n",
       "...         ...            ...       ...          ...           ...   \n",
       "57389       NaN  International  13/11/20        696.0           7.0   \n",
       "57390       NaN  International  14/11/20        696.0           7.0   \n",
       "57391       NaN  International  15/11/20        696.0           7.0   \n",
       "57392       NaN  International  16/11/20        696.0           7.0   \n",
       "57393       NaN  International  17/11/20        696.0           7.0   \n",
       "\n",
       "       gdp_per_capita  human_development_index  \n",
       "0            1803.987                    0.498  \n",
       "1            1803.987                    0.498  \n",
       "2            1803.987                    0.498  \n",
       "3            1803.987                    0.498  \n",
       "4            1803.987                    0.498  \n",
       "...               ...                      ...  \n",
       "57389             NaN                      NaN  \n",
       "57390             NaN                      NaN  \n",
       "57391             NaN                      NaN  \n",
       "57392             NaN                      NaN  \n",
       "57393             NaN                      NaN  \n",
       "\n",
       "[57394 rows x 7 columns]"
      ]
     },
     "execution_count": 20,
     "metadata": {},
     "output_type": "execute_result"
    }
   ],
   "source": [
    "Data=Data[['continent','location','date','total_cases','total_deaths','gdp_per_capita','human_development_index']]\n",
    "Data"
   ]
  },
  {
   "cell_type": "markdown",
   "id": "1a87d4d5",
   "metadata": {},
   "source": [
    "## Step 6:Data Cleaning\n",
    "***a. Remove all duplicates observations***"
   ]
  },
  {
   "cell_type": "code",
   "execution_count": 21,
   "id": "2c37537c",
   "metadata": {},
   "outputs": [],
   "source": [
    "Data=Data.drop_duplicates()\n"
   ]
  },
  {
   "cell_type": "markdown",
   "id": "9890c5ec",
   "metadata": {},
   "source": [
    "***b. Find missing values in all columns***"
   ]
  },
  {
   "cell_type": "code",
   "execution_count": 22,
   "id": "bae006b5",
   "metadata": {},
   "outputs": [
    {
     "data": {
      "text/plain": [
       "continent                    646\n",
       "location                       0\n",
       "date                           0\n",
       "total_cases                 3636\n",
       "total_deaths               13026\n",
       "gdp_per_capita              7027\n",
       "human_development_index     8147\n",
       "dtype: int64"
      ]
     },
     "execution_count": 22,
     "metadata": {},
     "output_type": "execute_result"
    }
   ],
   "source": [
    "Data.isna().sum()"
   ]
  },
  {
   "cell_type": "code",
   "execution_count": 23,
   "id": "6ab71e9f",
   "metadata": {},
   "outputs": [
    {
     "data": {
      "text/plain": [
       "57394"
      ]
     },
     "execution_count": 23,
     "metadata": {},
     "output_type": "execute_result"
    }
   ],
   "source": [
    "Data.shape[0]"
   ]
  },
  {
   "cell_type": "markdown",
   "id": "4d63c4c4",
   "metadata": {},
   "source": [
    "***c. Remove all observations where continent column value is missing***\n",
    "Tip : using subset parameter in dropna"
   ]
  },
  {
   "cell_type": "code",
   "execution_count": 24,
   "id": "c825f0b2",
   "metadata": {},
   "outputs": [],
   "source": [
    "Data.dropna(axis=0, how='any',subset=['continent'], inplace=True)"
   ]
  },
  {
   "cell_type": "code",
   "execution_count": 25,
   "id": "cc48f804",
   "metadata": {},
   "outputs": [
    {
     "data": {
      "text/plain": [
       "56748"
      ]
     },
     "execution_count": 25,
     "metadata": {},
     "output_type": "execute_result"
    }
   ],
   "source": [
    "Data.shape[0]"
   ]
  },
  {
   "cell_type": "markdown",
   "id": "28f31bf0",
   "metadata": {},
   "source": [
    "***d. Fill all missing values with 0***"
   ]
  },
  {
   "cell_type": "code",
   "execution_count": 26,
   "id": "5077a74e",
   "metadata": {},
   "outputs": [],
   "source": [
    "Data=Data.fillna(0)"
   ]
  },
  {
   "cell_type": "code",
   "execution_count": 27,
   "id": "69b87fe4",
   "metadata": {},
   "outputs": [
    {
     "data": {
      "text/plain": [
       "continent                  0\n",
       "location                   0\n",
       "date                       0\n",
       "total_cases                0\n",
       "total_deaths               0\n",
       "gdp_per_capita             0\n",
       "human_development_index    0\n",
       "dtype: int64"
      ]
     },
     "execution_count": 27,
     "metadata": {},
     "output_type": "execute_result"
    }
   ],
   "source": [
    "Data.isna().sum()"
   ]
  },
  {
   "cell_type": "markdown",
   "id": "a5e41915",
   "metadata": {},
   "source": [
    "## Step 7:Date time format\n",
    "***a. Convert date column in datetime format using pandas.to_datetime***"
   ]
  },
  {
   "cell_type": "code",
   "execution_count": 28,
   "id": "8e2cee13",
   "metadata": {},
   "outputs": [],
   "source": [
    "Data[\"date\"]=pd.to_datetime(Data['date'])"
   ]
  },
  {
   "cell_type": "code",
   "execution_count": 29,
   "id": "5392a60e",
   "metadata": {},
   "outputs": [
    {
     "data": {
      "text/plain": [
       "continent                          object\n",
       "location                           object\n",
       "date                       datetime64[ns]\n",
       "total_cases                       float64\n",
       "total_deaths                      float64\n",
       "gdp_per_capita                    float64\n",
       "human_development_index           float64\n",
       "dtype: object"
      ]
     },
     "execution_count": 29,
     "metadata": {},
     "output_type": "execute_result"
    }
   ],
   "source": [
    "Data.dtypes"
   ]
  },
  {
   "cell_type": "markdown",
   "id": "c68c993b",
   "metadata": {},
   "source": [
    "***b. Create new column month after extracting month data from date column.***"
   ]
  },
  {
   "cell_type": "code",
   "execution_count": 30,
   "id": "537425d4",
   "metadata": {},
   "outputs": [],
   "source": [
    "Data['Month'] = pd.to_datetime(Data['date']).dt.month\n"
   ]
  },
  {
   "cell_type": "code",
   "execution_count": 31,
   "id": "3a36b395",
   "metadata": {},
   "outputs": [
    {
     "data": {
      "text/html": [
       "<div>\n",
       "<style scoped>\n",
       "    .dataframe tbody tr th:only-of-type {\n",
       "        vertical-align: middle;\n",
       "    }\n",
       "\n",
       "    .dataframe tbody tr th {\n",
       "        vertical-align: top;\n",
       "    }\n",
       "\n",
       "    .dataframe thead th {\n",
       "        text-align: right;\n",
       "    }\n",
       "</style>\n",
       "<table border=\"1\" class=\"dataframe\">\n",
       "  <thead>\n",
       "    <tr style=\"text-align: right;\">\n",
       "      <th></th>\n",
       "      <th>continent</th>\n",
       "      <th>location</th>\n",
       "      <th>date</th>\n",
       "      <th>total_cases</th>\n",
       "      <th>total_deaths</th>\n",
       "      <th>gdp_per_capita</th>\n",
       "      <th>human_development_index</th>\n",
       "      <th>Month</th>\n",
       "    </tr>\n",
       "  </thead>\n",
       "  <tbody>\n",
       "    <tr>\n",
       "      <th>0</th>\n",
       "      <td>Asia</td>\n",
       "      <td>Afghanistan</td>\n",
       "      <td>2019-12-31</td>\n",
       "      <td>0.0</td>\n",
       "      <td>0.0</td>\n",
       "      <td>1803.987</td>\n",
       "      <td>0.498</td>\n",
       "      <td>12</td>\n",
       "    </tr>\n",
       "    <tr>\n",
       "      <th>1</th>\n",
       "      <td>Asia</td>\n",
       "      <td>Afghanistan</td>\n",
       "      <td>2020-01-01</td>\n",
       "      <td>0.0</td>\n",
       "      <td>0.0</td>\n",
       "      <td>1803.987</td>\n",
       "      <td>0.498</td>\n",
       "      <td>1</td>\n",
       "    </tr>\n",
       "    <tr>\n",
       "      <th>2</th>\n",
       "      <td>Asia</td>\n",
       "      <td>Afghanistan</td>\n",
       "      <td>2020-02-01</td>\n",
       "      <td>0.0</td>\n",
       "      <td>0.0</td>\n",
       "      <td>1803.987</td>\n",
       "      <td>0.498</td>\n",
       "      <td>2</td>\n",
       "    </tr>\n",
       "    <tr>\n",
       "      <th>3</th>\n",
       "      <td>Asia</td>\n",
       "      <td>Afghanistan</td>\n",
       "      <td>2020-03-01</td>\n",
       "      <td>0.0</td>\n",
       "      <td>0.0</td>\n",
       "      <td>1803.987</td>\n",
       "      <td>0.498</td>\n",
       "      <td>3</td>\n",
       "    </tr>\n",
       "    <tr>\n",
       "      <th>4</th>\n",
       "      <td>Asia</td>\n",
       "      <td>Afghanistan</td>\n",
       "      <td>2020-04-01</td>\n",
       "      <td>0.0</td>\n",
       "      <td>0.0</td>\n",
       "      <td>1803.987</td>\n",
       "      <td>0.498</td>\n",
       "      <td>4</td>\n",
       "    </tr>\n",
       "    <tr>\n",
       "      <th>...</th>\n",
       "      <td>...</td>\n",
       "      <td>...</td>\n",
       "      <td>...</td>\n",
       "      <td>...</td>\n",
       "      <td>...</td>\n",
       "      <td>...</td>\n",
       "      <td>...</td>\n",
       "      <td>...</td>\n",
       "    </tr>\n",
       "    <tr>\n",
       "      <th>56743</th>\n",
       "      <td>Africa</td>\n",
       "      <td>Zimbabwe</td>\n",
       "      <td>2020-11-13</td>\n",
       "      <td>8696.0</td>\n",
       "      <td>255.0</td>\n",
       "      <td>1899.775</td>\n",
       "      <td>0.535</td>\n",
       "      <td>11</td>\n",
       "    </tr>\n",
       "    <tr>\n",
       "      <th>56744</th>\n",
       "      <td>Africa</td>\n",
       "      <td>Zimbabwe</td>\n",
       "      <td>2020-11-14</td>\n",
       "      <td>8765.0</td>\n",
       "      <td>257.0</td>\n",
       "      <td>1899.775</td>\n",
       "      <td>0.535</td>\n",
       "      <td>11</td>\n",
       "    </tr>\n",
       "    <tr>\n",
       "      <th>56745</th>\n",
       "      <td>Africa</td>\n",
       "      <td>Zimbabwe</td>\n",
       "      <td>2020-11-15</td>\n",
       "      <td>8786.0</td>\n",
       "      <td>257.0</td>\n",
       "      <td>1899.775</td>\n",
       "      <td>0.535</td>\n",
       "      <td>11</td>\n",
       "    </tr>\n",
       "    <tr>\n",
       "      <th>56746</th>\n",
       "      <td>Africa</td>\n",
       "      <td>Zimbabwe</td>\n",
       "      <td>2020-11-16</td>\n",
       "      <td>8786.0</td>\n",
       "      <td>257.0</td>\n",
       "      <td>1899.775</td>\n",
       "      <td>0.535</td>\n",
       "      <td>11</td>\n",
       "    </tr>\n",
       "    <tr>\n",
       "      <th>56747</th>\n",
       "      <td>Africa</td>\n",
       "      <td>Zimbabwe</td>\n",
       "      <td>2020-11-17</td>\n",
       "      <td>8897.0</td>\n",
       "      <td>257.0</td>\n",
       "      <td>1899.775</td>\n",
       "      <td>0.535</td>\n",
       "      <td>11</td>\n",
       "    </tr>\n",
       "  </tbody>\n",
       "</table>\n",
       "<p>56748 rows × 8 columns</p>\n",
       "</div>"
      ],
      "text/plain": [
       "      continent     location       date  total_cases  total_deaths  \\\n",
       "0          Asia  Afghanistan 2019-12-31          0.0           0.0   \n",
       "1          Asia  Afghanistan 2020-01-01          0.0           0.0   \n",
       "2          Asia  Afghanistan 2020-02-01          0.0           0.0   \n",
       "3          Asia  Afghanistan 2020-03-01          0.0           0.0   \n",
       "4          Asia  Afghanistan 2020-04-01          0.0           0.0   \n",
       "...         ...          ...        ...          ...           ...   \n",
       "56743    Africa     Zimbabwe 2020-11-13       8696.0         255.0   \n",
       "56744    Africa     Zimbabwe 2020-11-14       8765.0         257.0   \n",
       "56745    Africa     Zimbabwe 2020-11-15       8786.0         257.0   \n",
       "56746    Africa     Zimbabwe 2020-11-16       8786.0         257.0   \n",
       "56747    Africa     Zimbabwe 2020-11-17       8897.0         257.0   \n",
       "\n",
       "       gdp_per_capita  human_development_index  Month  \n",
       "0            1803.987                    0.498     12  \n",
       "1            1803.987                    0.498      1  \n",
       "2            1803.987                    0.498      2  \n",
       "3            1803.987                    0.498      3  \n",
       "4            1803.987                    0.498      4  \n",
       "...               ...                      ...    ...  \n",
       "56743        1899.775                    0.535     11  \n",
       "56744        1899.775                    0.535     11  \n",
       "56745        1899.775                    0.535     11  \n",
       "56746        1899.775                    0.535     11  \n",
       "56747        1899.775                    0.535     11  \n",
       "\n",
       "[56748 rows x 8 columns]"
      ]
     },
     "execution_count": 31,
     "metadata": {},
     "output_type": "execute_result"
    }
   ],
   "source": [
    "Data"
   ]
  },
  {
   "cell_type": "markdown",
   "id": "8b4a04a2",
   "metadata": {},
   "source": [
    "## Step 8:Data Aggregation:\n",
    " ***a. Find max value in all columns using groupby function on \n",
    "'continent'\n",
    " column***\n",
    " **Tip: use reset_index() after applying groupby\n",
    "***  ***"
   ]
  },
  {
   "cell_type": "code",
   "execution_count": 37,
   "id": "816dcc63",
   "metadata": {},
   "outputs": [
    {
     "data": {
      "text/html": [
       "<div>\n",
       "<style scoped>\n",
       "    .dataframe tbody tr th:only-of-type {\n",
       "        vertical-align: middle;\n",
       "    }\n",
       "\n",
       "    .dataframe tbody tr th {\n",
       "        vertical-align: top;\n",
       "    }\n",
       "\n",
       "    .dataframe thead th {\n",
       "        text-align: right;\n",
       "    }\n",
       "</style>\n",
       "<table border=\"1\" class=\"dataframe\">\n",
       "  <thead>\n",
       "    <tr style=\"text-align: right;\">\n",
       "      <th></th>\n",
       "      <th>continent</th>\n",
       "      <th>location</th>\n",
       "      <th>date</th>\n",
       "      <th>total_cases</th>\n",
       "      <th>total_deaths</th>\n",
       "      <th>gdp_per_capita</th>\n",
       "      <th>human_development_index</th>\n",
       "      <th>Month</th>\n",
       "    </tr>\n",
       "  </thead>\n",
       "  <tbody>\n",
       "    <tr>\n",
       "      <th>0</th>\n",
       "      <td>Africa</td>\n",
       "      <td>Zimbabwe</td>\n",
       "      <td>2020-12-11</td>\n",
       "      <td>752269.0</td>\n",
       "      <td>20314.0</td>\n",
       "      <td>26382.287</td>\n",
       "      <td>0.797</td>\n",
       "      <td>12</td>\n",
       "    </tr>\n",
       "    <tr>\n",
       "      <th>1</th>\n",
       "      <td>Asia</td>\n",
       "      <td>Yemen</td>\n",
       "      <td>2020-12-11</td>\n",
       "      <td>8874290.0</td>\n",
       "      <td>130519.0</td>\n",
       "      <td>116935.600</td>\n",
       "      <td>0.933</td>\n",
       "      <td>12</td>\n",
       "    </tr>\n",
       "    <tr>\n",
       "      <th>2</th>\n",
       "      <td>Europe</td>\n",
       "      <td>Vatican</td>\n",
       "      <td>2020-12-11</td>\n",
       "      <td>1991233.0</td>\n",
       "      <td>52147.0</td>\n",
       "      <td>94277.965</td>\n",
       "      <td>0.953</td>\n",
       "      <td>12</td>\n",
       "    </tr>\n",
       "    <tr>\n",
       "      <th>3</th>\n",
       "      <td>North America</td>\n",
       "      <td>United States Virgin Islands</td>\n",
       "      <td>2020-12-11</td>\n",
       "      <td>11205486.0</td>\n",
       "      <td>247220.0</td>\n",
       "      <td>54225.446</td>\n",
       "      <td>0.926</td>\n",
       "      <td>12</td>\n",
       "    </tr>\n",
       "    <tr>\n",
       "      <th>4</th>\n",
       "      <td>Oceania</td>\n",
       "      <td>Wallis and Futuna</td>\n",
       "      <td>2020-12-11</td>\n",
       "      <td>27750.0</td>\n",
       "      <td>907.0</td>\n",
       "      <td>44648.710</td>\n",
       "      <td>0.939</td>\n",
       "      <td>12</td>\n",
       "    </tr>\n",
       "    <tr>\n",
       "      <th>5</th>\n",
       "      <td>South America</td>\n",
       "      <td>Venezuela</td>\n",
       "      <td>2020-12-11</td>\n",
       "      <td>5876464.0</td>\n",
       "      <td>166014.0</td>\n",
       "      <td>22767.037</td>\n",
       "      <td>0.843</td>\n",
       "      <td>12</td>\n",
       "    </tr>\n",
       "  </tbody>\n",
       "</table>\n",
       "</div>"
      ],
      "text/plain": [
       "       continent                      location       date  total_cases  \\\n",
       "0         Africa                      Zimbabwe 2020-12-11     752269.0   \n",
       "1           Asia                         Yemen 2020-12-11    8874290.0   \n",
       "2         Europe                       Vatican 2020-12-11    1991233.0   \n",
       "3  North America  United States Virgin Islands 2020-12-11   11205486.0   \n",
       "4        Oceania             Wallis and Futuna 2020-12-11      27750.0   \n",
       "5  South America                     Venezuela 2020-12-11    5876464.0   \n",
       "\n",
       "   total_deaths  gdp_per_capita  human_development_index  Month  \n",
       "0       20314.0       26382.287                    0.797     12  \n",
       "1      130519.0      116935.600                    0.933     12  \n",
       "2       52147.0       94277.965                    0.953     12  \n",
       "3      247220.0       54225.446                    0.926     12  \n",
       "4         907.0       44648.710                    0.939     12  \n",
       "5      166014.0       22767.037                    0.843     12  "
      ]
     },
     "execution_count": 37,
     "metadata": {},
     "output_type": "execute_result"
    }
   ],
   "source": [
    "Data.groupby('continent').max().reset_index()"
   ]
  },
  {
   "cell_type": "markdown",
   "id": "1f0c6985",
   "metadata": {},
   "source": [
    "***b. Store the result in a new dataframe named 'df_groupby'.(Use df_groupby dataframe for all further analysis)***"
   ]
  },
  {
   "cell_type": "code",
   "execution_count": 38,
   "id": "6e7c7c18",
   "metadata": {},
   "outputs": [],
   "source": [
    "df_groupby=Data.groupby('continent').max().reset_index()"
   ]
  },
  {
   "cell_type": "markdown",
   "id": "6fc0e3d9",
   "metadata": {},
   "source": [
    "## Step 9:Feature Engineering \n",
    " ***a. Create a new feature 'total_deaths_to_total_cases' by ratio of\n",
    " 'total_deaths' column to 'total_cases'***\n",
    "\n"
   ]
  },
  {
   "cell_type": "code",
   "execution_count": 39,
   "id": "affbe6fc",
   "metadata": {},
   "outputs": [],
   "source": [
    "df_groupby[\"total_deaths_to_total_cases\"] = np.where(df_groupby[\"total_cases\"] != 0, df_groupby[\"total_deaths\"]/df_groupby[\"total_cases\"],\"0\")"
   ]
  },
  {
   "cell_type": "code",
   "execution_count": 40,
   "id": "2d56f02d",
   "metadata": {},
   "outputs": [
    {
     "data": {
      "text/html": [
       "<div>\n",
       "<style scoped>\n",
       "    .dataframe tbody tr th:only-of-type {\n",
       "        vertical-align: middle;\n",
       "    }\n",
       "\n",
       "    .dataframe tbody tr th {\n",
       "        vertical-align: top;\n",
       "    }\n",
       "\n",
       "    .dataframe thead th {\n",
       "        text-align: right;\n",
       "    }\n",
       "</style>\n",
       "<table border=\"1\" class=\"dataframe\">\n",
       "  <thead>\n",
       "    <tr style=\"text-align: right;\">\n",
       "      <th></th>\n",
       "      <th>continent</th>\n",
       "      <th>location</th>\n",
       "      <th>date</th>\n",
       "      <th>total_cases</th>\n",
       "      <th>total_deaths</th>\n",
       "      <th>gdp_per_capita</th>\n",
       "      <th>human_development_index</th>\n",
       "      <th>Month</th>\n",
       "      <th>total_deaths_to_total_cases</th>\n",
       "    </tr>\n",
       "  </thead>\n",
       "  <tbody>\n",
       "    <tr>\n",
       "      <th>0</th>\n",
       "      <td>Africa</td>\n",
       "      <td>Zimbabwe</td>\n",
       "      <td>2020-12-11</td>\n",
       "      <td>752269.0</td>\n",
       "      <td>20314.0</td>\n",
       "      <td>26382.287</td>\n",
       "      <td>0.797</td>\n",
       "      <td>12</td>\n",
       "      <td>0.02700363832618385</td>\n",
       "    </tr>\n",
       "    <tr>\n",
       "      <th>1</th>\n",
       "      <td>Asia</td>\n",
       "      <td>Yemen</td>\n",
       "      <td>2020-12-11</td>\n",
       "      <td>8874290.0</td>\n",
       "      <td>130519.0</td>\n",
       "      <td>116935.600</td>\n",
       "      <td>0.933</td>\n",
       "      <td>12</td>\n",
       "      <td>0.014707542800607147</td>\n",
       "    </tr>\n",
       "    <tr>\n",
       "      <th>2</th>\n",
       "      <td>Europe</td>\n",
       "      <td>Vatican</td>\n",
       "      <td>2020-12-11</td>\n",
       "      <td>1991233.0</td>\n",
       "      <td>52147.0</td>\n",
       "      <td>94277.965</td>\n",
       "      <td>0.953</td>\n",
       "      <td>12</td>\n",
       "      <td>0.026188296397257376</td>\n",
       "    </tr>\n",
       "    <tr>\n",
       "      <th>3</th>\n",
       "      <td>North America</td>\n",
       "      <td>United States Virgin Islands</td>\n",
       "      <td>2020-12-11</td>\n",
       "      <td>11205486.0</td>\n",
       "      <td>247220.0</td>\n",
       "      <td>54225.446</td>\n",
       "      <td>0.926</td>\n",
       "      <td>12</td>\n",
       "      <td>0.02206240764568355</td>\n",
       "    </tr>\n",
       "    <tr>\n",
       "      <th>4</th>\n",
       "      <td>Oceania</td>\n",
       "      <td>Wallis and Futuna</td>\n",
       "      <td>2020-12-11</td>\n",
       "      <td>27750.0</td>\n",
       "      <td>907.0</td>\n",
       "      <td>44648.710</td>\n",
       "      <td>0.939</td>\n",
       "      <td>12</td>\n",
       "      <td>0.03268468468468468</td>\n",
       "    </tr>\n",
       "    <tr>\n",
       "      <th>5</th>\n",
       "      <td>South America</td>\n",
       "      <td>Venezuela</td>\n",
       "      <td>2020-12-11</td>\n",
       "      <td>5876464.0</td>\n",
       "      <td>166014.0</td>\n",
       "      <td>22767.037</td>\n",
       "      <td>0.843</td>\n",
       "      <td>12</td>\n",
       "      <td>0.028250662303044825</td>\n",
       "    </tr>\n",
       "  </tbody>\n",
       "</table>\n",
       "</div>"
      ],
      "text/plain": [
       "       continent                      location       date  total_cases  \\\n",
       "0         Africa                      Zimbabwe 2020-12-11     752269.0   \n",
       "1           Asia                         Yemen 2020-12-11    8874290.0   \n",
       "2         Europe                       Vatican 2020-12-11    1991233.0   \n",
       "3  North America  United States Virgin Islands 2020-12-11   11205486.0   \n",
       "4        Oceania             Wallis and Futuna 2020-12-11      27750.0   \n",
       "5  South America                     Venezuela 2020-12-11    5876464.0   \n",
       "\n",
       "   total_deaths  gdp_per_capita  human_development_index  Month  \\\n",
       "0       20314.0       26382.287                    0.797     12   \n",
       "1      130519.0      116935.600                    0.933     12   \n",
       "2       52147.0       94277.965                    0.953     12   \n",
       "3      247220.0       54225.446                    0.926     12   \n",
       "4         907.0       44648.710                    0.939     12   \n",
       "5      166014.0       22767.037                    0.843     12   \n",
       "\n",
       "  total_deaths_to_total_cases  \n",
       "0         0.02700363832618385  \n",
       "1        0.014707542800607147  \n",
       "2        0.026188296397257376  \n",
       "3         0.02206240764568355  \n",
       "4         0.03268468468468468  \n",
       "5        0.028250662303044825  "
      ]
     },
     "execution_count": 40,
     "metadata": {},
     "output_type": "execute_result"
    }
   ],
   "source": [
    "df_groupby"
   ]
  },
  {
   "cell_type": "markdown",
   "id": "95a4b0c6",
   "metadata": {},
   "source": []
  },
  {
   "cell_type": "markdown",
   "id": "99294ad0",
   "metadata": {},
   "source": [
    "## Step 10:Data Visualization :\n",
    " ***a. Perform Univariate analysis on 'gdp_per_capita' column by plotting histogram using seaborn dist plot.***\n"
   ]
  },
  {
   "cell_type": "code",
   "execution_count": 41,
   "id": "1adcd6b3",
   "metadata": {},
   "outputs": [
    {
     "name": "stderr",
     "output_type": "stream",
     "text": [
      "C:\\Users\\vip\\AppData\\Local\\Temp\\ipykernel_18936\\2828013499.py:1: UserWarning: \n",
      "\n",
      "`distplot` is a deprecated function and will be removed in seaborn v0.14.0.\n",
      "\n",
      "Please adapt your code to use either `displot` (a figure-level function with\n",
      "similar flexibility) or `histplot` (an axes-level function for histograms).\n",
      "\n",
      "For a guide to updating your code to use the new functions, please see\n",
      "https://gist.github.com/mwaskom/de44147ed2974457ad6372750bbe5751\n",
      "\n",
      "  sns.distplot(df_groupby['gdp_per_capita'],hist=True)\n"
     ]
    },
    {
     "data": {
      "text/plain": [
       "<AxesSubplot: xlabel='gdp_per_capita', ylabel='Density'>"
      ]
     },
     "execution_count": 41,
     "metadata": {},
     "output_type": "execute_result"
    },
    {
     "data": {
      "image/png": "[encoded data removed]",
      "text/plain": [
       "<Figure size 432x288 with 1 Axes>"
      ]
     },
     "metadata": {
      "needs_background": "light"
     },
     "output_type": "display_data"
    }
   ],
   "source": [
    "sns.distplot(df_groupby['gdp_per_capita'],hist=True)"
   ]
  },
  {
   "cell_type": "markdown",
   "id": "410aa721",
   "metadata": {},
   "source": [
    "***b. Plot a scatter plot of 'total_cases' & 'gdp_per_capita'***"
   ]
  },
  {
   "cell_type": "code",
   "execution_count": 42,
   "id": "3486adf9",
   "metadata": {},
   "outputs": [
    {
     "data": {
      "text/plain": [
       "<matplotlib.collections.PathCollection at 0x2522de6f190>"
      ]
     },
     "execution_count": 42,
     "metadata": {},
     "output_type": "execute_result"
    },
    {
     "data": {
      "image/png": "[encoded data removed]",
      "text/plain": [
       "<Figure size 432x288 with 1 Axes>"
      ]
     },
     "metadata": {
      "needs_background": "light"
     },
     "output_type": "display_data"
    }
   ],
   "source": [
    "plt.scatter(df_groupby['total_cases'],df_groupby['gdp_per_capita'])"
   ]
  },
  {
   "cell_type": "markdown",
   "id": "30d5fe0a",
   "metadata": {},
   "source": [
    "***c. Plot Pairplot on df_groupby dataset.***"
   ]
  },
  {
   "cell_type": "code",
   "execution_count": 43,
   "id": "1c20be55",
   "metadata": {},
   "outputs": [
    {
     "data": {
      "text/plain": [
       "<seaborn.axisgrid.PairGrid at 0x2522bf1ecb0>"
      ]
     },
     "execution_count": 43,
     "metadata": {},
     "output_type": "execute_result"
    },
    {
     "data": {
      "image/png": "[encoded data removed]",
      "text/plain": [
       "<Figure size 900x900 with 30 Axes>"
      ]
     },
     "metadata": {
      "needs_background": "light"
     },
     "output_type": "display_data"
    }
   ],
   "source": [
    "sns.pairplot(df_groupby)"
   ]
  },
  {
   "cell_type": "markdown",
   "id": "a4429f19",
   "metadata": {},
   "source": [
    "***d. Plot a bar plot of 'continent' column with 'total_cases' .\n",
    " Tip : using kind='bar' in seaborn catplot***"
   ]
  },
  {
   "cell_type": "code",
   "execution_count": 44,
   "id": "b6b26e5b",
   "metadata": {},
   "outputs": [
    {
     "data": {
      "text/plain": [
       "<AxesSubplot: xlabel='continent', ylabel='total_cases'>"
      ]
     },
     "execution_count": 44,
     "metadata": {},
     "output_type": "execute_result"
    },
    {
     "data": {
      "image/png": "[encoded data removed]",
      "text/plain": [
       "<Figure size 432x288 with 1 Axes>"
      ]
     },
     "metadata": {
      "needs_background": "light"
     },
     "output_type": "display_data"
    }
   ],
   "source": [
    "sns.barplot(x='continent',y='total_cases',data=df_groupby)"
   ]
  },
  {
   "cell_type": "markdown",
   "id": "4e7f610c",
   "metadata": {},
   "source": [
    "# Step 11:Save the df_groupby dataframe in your local drive using pandas.to_csv function ."
   ]
  },
  {
   "cell_type": "code",
   "execution_count": 45,
   "id": "1a801df9",
   "metadata": {},
   "outputs": [],
   "source": [
    "df_groupby.to_csv('modified_df_groupby_cleaned_csv')"
   ]
  },
  {
   "cell_type": "code",
   "execution_count": null,
   "id": "cc0b5c29",
   "metadata": {},
   "outputs": [],
   "source": []
  }
 ],
 "metadata": {
  "kernelspec": {
   "display_name": "Python 3 (ipykernel)",
   "language": "python",
   "name": "python3"
  },
  "language_info": {
   "codemirror_mode": {
    "name": "ipython",
    "version": 3
   },
   "file_extension": ".py",
   "mimetype": "text/x-python",
   "name": "python",
   "nbconvert_exporter": "python",
   "pygments_lexer": "ipython3",
   "version": "3.10.4"
  }
 },
 "nbformat": 4,
 "nbformat_minor": 5
}
